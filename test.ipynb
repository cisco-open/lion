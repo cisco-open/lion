{
 "cells": [
  {
   "cell_type": "markdown",
   "metadata": {},
   "source": [
    "# Skeleton of Experiments, Debugging, Testing"
   ]
  },
  {
   "cell_type": "code",
   "execution_count": 2,
   "metadata": {},
   "outputs": [],
   "source": [
    "import pandas as pd\n",
    "\n",
    "from gateway.logparser import log_csv_to_df\n",
    "from gateway.matrix_profile import MatrixProfileAnalyzer"
   ]
  },
  {
   "cell_type": "code",
   "execution_count": null,
   "metadata": {},
   "outputs": [],
   "source": [
    "path = \"input_logs/openssh.csv\"\n",
    "df = pd.read_csv(path)"
   ]
  },
  {
   "cell_type": "code",
   "execution_count": null,
   "metadata": {},
   "outputs": [],
   "source": [
    "\"\"\" Testing the Matrix Profile \"\"\"\n",
    "\n",
    "mpa = MatrixProfileAnalyzer(df)\n",
    "\n",
    "profileDiscords, discords = mpa.get_discords()\n",
    "profileMotifs, motifs = mpa.get_motifs()"
   ]
  },
  {
   "cell_type": "code",
   "execution_count": null,
   "metadata": {},
   "outputs": [],
   "source": [
    "mpa.plot_timeseries('profile_figs/') \n",
    "mpa.visualize_profile(profileDiscords, 'profile_figs\\discords')\n",
    "mpa.visualize_profile(profileMotifs, 'profile_figs\\motifs')"
   ]
  },
  {
   "cell_type": "code",
   "execution_count": null,
   "metadata": {},
   "outputs": [],
   "source": [
    "# window_sizes = [] \n",
    "# for discord in discords: \n",
    "#     row = discord[0]; col = discord[1] # Since pan-matrix-profile, we have a row/col index \n",
    "    \n",
    "#     window_size = profileDiscords['windows'][row]\n",
    "#     peak_val = profileDiscords['pmp'][row][col]\n",
    "#     #event_id = \n",
    "\n",
    "#     print(f\"Discord {discord} has window size {window_size} and peaks w/ val {peak_val}\")\n",
    "#     window_sizes.append(window_size)\n",
    "\n",
    "#     window = 3\n",
    "#     entry = mpa.get_df_entries(col, window=window)\n",
    "#     print(f\"Corresponding Log Entry (window={window}): {entry}\\n\")"
   ]
  },
  {
   "cell_type": "code",
   "execution_count": null,
   "metadata": {},
   "outputs": [],
   "source": [
    "# profileDiscordsNew, discordsNew = mpa.get_discords(windows=window_sizes)\n",
    "# print(discordsNew)\n",
    "# print(profileDiscordsNew)\n",
    "# mpa.visualize_profile(profileDiscordsNew, 'profile_figs\\discords_new')"
   ]
  },
  {
   "cell_type": "code",
   "execution_count": null,
   "metadata": {},
   "outputs": [],
   "source": [
    "# Define the time range to filter by (9:00 to 9:30)\n",
    "# start_time = datetime(2016, 12, 10, 9, 0, 0)\n",
    "# end_time = datetime(2016, 12, 10, 9, 30, 0)"
   ]
  }
 ],
 "metadata": {
  "kernelspec": {
   "display_name": "Python 3",
   "language": "python",
   "name": "python3"
  },
  "language_info": {
   "codemirror_mode": {
    "name": "ipython",
    "version": 3
   },
   "file_extension": ".py",
   "mimetype": "text/x-python",
   "name": "python",
   "nbconvert_exporter": "python",
   "pygments_lexer": "ipython3",
   "version": "3.10.10"
  },
  "orig_nbformat": 4
 },
 "nbformat": 4,
 "nbformat_minor": 2
}
